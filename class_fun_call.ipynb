{
 "cells": [
  {
   "cell_type": "code",
   "execution_count": 7,
   "id": "b407ee6a-88cf-4323-869c-f2e19bd3b1c0",
   "metadata": {},
   "outputs": [],
   "source": [
    "import multiple_function as prg\n",
    "SubfieldsInAI = prg.SubfieldsInAI()\n"
   ]
  },
  {
   "cell_type": "code",
   "execution_count": 8,
   "id": "da03dda5-eb19-4dcf-a478-8ede5de71e95",
   "metadata": {},
   "outputs": [
    {
     "name": "stdout",
     "output_type": "stream",
     "text": [
      "Sub-fields in AI are:\n",
      "Machine Learning\n",
      "Neural Networks\n",
      "VisionRobotics\n",
      "Speech Processing\n",
      "Natural Language Processing\n"
     ]
    }
   ],
   "source": [
    "SubfieldsInAI.subfields()"
   ]
  },
  {
   "cell_type": "code",
   "execution_count": 9,
   "id": "323c6c62-e32b-494b-8d85-bcd89505938d",
   "metadata": {},
   "outputs": [
    {
     "name": "stdin",
     "output_type": "stream",
     "text": [
      "Enter the number: 1\n"
     ]
    },
    {
     "name": "stdout",
     "output_type": "stream",
     "text": [
      "1 is odd number\n"
     ]
    }
   ],
   "source": [
    "SubfieldsInAI.oddEven()"
   ]
  },
  {
   "cell_type": "code",
   "execution_count": 10,
   "id": "da7ea1bb-7665-4efb-b469-adcf8f960546",
   "metadata": {},
   "outputs": [
    {
     "name": "stdin",
     "output_type": "stream",
     "text": [
      "Your Gender: Male\n",
      "Your Age: 21\n"
     ]
    },
    {
     "name": "stdout",
     "output_type": "stream",
     "text": [
      "Eligible\n"
     ]
    }
   ],
   "source": [
    "SubfieldsInAI.Elegible()"
   ]
  },
  {
   "cell_type": "code",
   "execution_count": 11,
   "id": "24ac94a6-0ea5-4c8e-bd7e-ec3968ddecec",
   "metadata": {},
   "outputs": [
    {
     "name": "stdin",
     "output_type": "stream",
     "text": [
      "subject1: 10\n",
      "subject2: 20\n",
      "subject3: 30\n",
      "subject4: 40\n",
      "subject5: 50\n"
     ]
    },
    {
     "name": "stdout",
     "output_type": "stream",
     "text": [
      "Total 150\n",
      "Average 30.0\n"
     ]
    }
   ],
   "source": [
    "SubfieldsInAI.percentage()"
   ]
  },
  {
   "cell_type": "code",
   "execution_count": 12,
   "id": "21c954fa-5921-4c2f-8b9a-928c039d80b3",
   "metadata": {},
   "outputs": [
    {
     "name": "stdin",
     "output_type": "stream",
     "text": [
      "height: 21\n",
      "Breadth: 32\n"
     ]
    },
    {
     "name": "stdout",
     "output_type": "stream",
     "text": [
      "Area of formula: (Height*Breadth)/2\n",
      "Area of Triangle: 336.0\n"
     ]
    },
    {
     "name": "stdin",
     "output_type": "stream",
     "text": [
      "height1: 1\n",
      "height2: 1\n",
      "breadth: 2\n"
     ]
    },
    {
     "name": "stdout",
     "output_type": "stream",
     "text": [
      "Perimeter formula: Height1+Height2+Breadth\n",
      "Perimeter of Triangle: 4\n"
     ]
    }
   ],
   "source": [
    "SubfieldsInAI.triangle()"
   ]
  },
  {
   "cell_type": "code",
   "execution_count": null,
   "id": "c373f017-5fa7-418b-87bf-4730774cd644",
   "metadata": {},
   "outputs": [],
   "source": []
  }
 ],
 "metadata": {
  "kernelspec": {
   "display_name": "Python 3 (ipykernel)",
   "language": "python",
   "name": "python3"
  },
  "language_info": {
   "codemirror_mode": {
    "name": "ipython",
    "version": 3
   },
   "file_extension": ".py",
   "mimetype": "text/x-python",
   "name": "python",
   "nbconvert_exporter": "python",
   "pygments_lexer": "ipython3",
   "version": "3.10.14"
  }
 },
 "nbformat": 4,
 "nbformat_minor": 5
}
